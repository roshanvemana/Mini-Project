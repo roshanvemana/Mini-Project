{
 "cells": [
  {
   "cell_type": "code",
   "execution_count": null,
   "metadata": {},
   "outputs": [],
   "source": [
    "pip install yfinance"
   ]
  },
  {
   "cell_type": "code",
   "execution_count": null,
   "metadata": {},
   "outputs": [],
   "source": [
    "import yfinance as yf"
   ]
  },
  {
   "cell_type": "code",
   "execution_count": null,
   "metadata": {},
   "outputs": [],
   "source": [
    "df = yf.download('BTC-USD')"
   ]
  },
  {
   "cell_type": "code",
   "execution_count": null,
   "metadata": {},
   "outputs": [],
   "source": [
    "df"
   ]
  },
  {
   "cell_type": "code",
   "execution_count": null,
   "metadata": {},
   "outputs": [],
   "source": [
    "import numpy as np\n",
    "import pandas as pd\n",
    "import matplotlib.pyplot as plt\n",
    "import math\n",
    "from statsmodels.tsa.arima_model import ARIMA\n",
    "from sklearn.metrics import mean_squared_error, mean_absolute_error"
   ]
  },
  {
   "cell_type": "code",
   "execution_count": null,
   "metadata": {},
   "outputs": [],
   "source": [
    "# df = pd.DataFrame(index=range(0,2000,1))\n",
    "# df = df.iloc[1100:]"
   ]
  },
  {
   "cell_type": "code",
   "execution_count": null,
   "metadata": {},
   "outputs": [],
   "source": [
    "plt.plot(df.index, df['Adj Close'])\n",
    "plt.show()"
   ]
  },
  {
   "cell_type": "code",
   "execution_count": null,
   "metadata": {},
   "outputs": [],
   "source": [
    "#splitting into train and test\n",
    "to_row = int(len(df)*0.9)\n",
    "train_data = list(df[0:to_row]['Adj Close'])\n",
    "test_data = list(df[to_row:]['Adj Close'])\n",
    "#train_data\n",
    "# test_data"
   ]
  },
  {
   "cell_type": "code",
   "execution_count": null,
   "metadata": {},
   "outputs": [],
   "source": [
    "plt.figure(figsize=(10,6))\n",
    "plt.grid(True)\n",
    "plt.xlabel('Dates')\n",
    "plt.ylabel('closing prices')\n",
    "plt.plot(df[0:to_row]['Adj Close'],'green', label = 'train data')\n",
    "plt.plot(df[to_row:]['Adj Close'],'blue', label = 'test data')\n",
    "plt.legend()"
   ]
  },
  {
   "cell_type": "code",
   "execution_count": null,
   "metadata": {},
   "outputs": [],
   "source": [
    "model_predictions = []\n",
    "n_test_observations = len(test_data)"
   ]
  },
  {
   "cell_type": "code",
   "execution_count": null,
   "metadata": {},
   "outputs": [],
   "source": [
    "print(n_test_observations)"
   ]
  },
  {
   "cell_type": "code",
   "execution_count": null,
   "metadata": {},
   "outputs": [],
   "source": [
    "for i in range(n_test_observations):\n",
    "  model = ARIMA(train_data, order = (4, 1, 1))\n",
    "  model_fit = model.fit()\n",
    "  output = model_fit.forecast()\n",
    "  yhat=list(output[0])[0]\n",
    "  model_predictions.append(yhat)\n",
    "  actual_test_val = test_data[i]\n",
    "\n",
    "  train_data.append(actual_test_val)"
   ]
  },
  {
   "cell_type": "code",
   "execution_count": null,
   "metadata": {},
   "outputs": [],
   "source": [
    "print(len(test_data))\n",
    "print(len(model_predictions))\n",
    "print(len(train_data))"
   ]
  },
  {
   "cell_type": "code",
   "execution_count": null,
   "metadata": {},
   "outputs": [],
   "source": [
    "model_fit.summary()"
   ]
  },
  {
   "cell_type": "code",
   "execution_count": null,
   "metadata": {},
   "outputs": [],
   "source": [
    "plt.figure(figsize=(15,9))\n",
    "plt.grid(True)\n",
    "\n",
    "date_range = df.tail(289).index\n",
    "\n",
    "plt.plot(date_range, model_predictions[-289:], color = 'green', marker='^', linestyle = 'dashed', label = 'BTC predicted price')\n",
    "plt.plot(date_range, test_data[-289:], color = 'blue', label = 'BTC actual price')\n",
    "\n",
    "plt.title('btc price prediction')\n",
    "plt.xlabel('date')\n",
    "plt.ylabel('price')\n",
    "plt.legend()\n",
    "plt.show()"
   ]
  },
  {
   "cell_type": "code",
   "execution_count": null,
   "metadata": {},
   "outputs": [],
   "source": [
    "from sklearn.metrics import r2_score\n",
    "mape = np.mean(np.abs(np.array(model_predictions[-289:]) - np.array(test_data[-289:]))/np.abs(test_data[-289:]))\n",
    "print(mape) #mean absolute percentage error\n",
    "# print(r2_score(model_predictions, test_data))\n",
    "# print(mean_absolute_error(model_predictions, test_data))"
   ]
  }
 ],
 "metadata": {
  "kernelspec": {
   "display_name": "Python 3.9.5 64-bit",
   "language": "python",
   "name": "python3"
  },
  "language_info": {
   "name": "python",
   "version": "3.9.5"
  },
  "orig_nbformat": 4,
  "vscode": {
   "interpreter": {
    "hash": "49f72118693dedd4369568c1628f45b1cd96f83c4cd483274f6a37a847c1b78f"
   }
  }
 },
 "nbformat": 4,
 "nbformat_minor": 2
}
