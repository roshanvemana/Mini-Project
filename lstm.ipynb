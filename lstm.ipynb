{
 "cells": [
  {
   "cell_type": "code",
   "execution_count": 1,
   "metadata": {},
   "outputs": [],
   "source": [
    "import pandas as pd\n",
    "import numpy as np\n",
    "import matplotlib.pyplot as plt\n",
    "from sklearn.preprocessing import MinMaxScaler\n",
    "from tensorflow.keras.layers import Dense, Dropout, LSTM\n",
    "from tensorflow.keras.models import Sequential  "
   ]
  },
  {
   "cell_type": "code",
   "execution_count": 2,
   "metadata": {},
   "outputs": [],
   "source": [
    "api_key = '8b56d8c493094900a6580e5ac32b536d'\n",
    "symbol = 'BTC/USD'\n",
    "interval = '5min'\n",
    "order = 'asc'\n",
    "start_date = '2022-07-13 00:00:00'\n",
    "end_date = '2022-08-03 00:00:00'\n",
    "api_url = f'https://api.twelvedata.com/time_series?apikey={api_key}&symbol={symbol}&start_date={start_date}&end_date={end_date}&interval={interval}&order={order}'"
   ]
  },
  {
   "cell_type": "code",
   "execution_count": 3,
   "metadata": {},
   "outputs": [],
   "source": [
    "import requests\n",
    "data=requests.get(api_url).json()\n",
    "# print(data.json())"
   ]
  },
  {
   "cell_type": "code",
   "execution_count": 4,
   "metadata": {},
   "outputs": [],
   "source": [
    "df = pd.DataFrame(data['values'])"
   ]
  },
  {
   "cell_type": "code",
   "execution_count": 5,
   "metadata": {},
   "outputs": [
    {
     "data": {
      "text/html": [
       "<div>\n",
       "<style scoped>\n",
       "    .dataframe tbody tr th:only-of-type {\n",
       "        vertical-align: middle;\n",
       "    }\n",
       "\n",
       "    .dataframe tbody tr th {\n",
       "        vertical-align: top;\n",
       "    }\n",
       "\n",
       "    .dataframe thead th {\n",
       "        text-align: right;\n",
       "    }\n",
       "</style>\n",
       "<table border=\"1\" class=\"dataframe\">\n",
       "  <thead>\n",
       "    <tr style=\"text-align: right;\">\n",
       "      <th></th>\n",
       "      <th>datetime</th>\n",
       "      <th>open</th>\n",
       "      <th>high</th>\n",
       "      <th>low</th>\n",
       "      <th>close</th>\n",
       "    </tr>\n",
       "  </thead>\n",
       "  <tbody>\n",
       "    <tr>\n",
       "      <th>0</th>\n",
       "      <td>2022-07-16 15:25:00</td>\n",
       "      <td>20894.22070</td>\n",
       "      <td>20924.98047</td>\n",
       "      <td>20894.22070</td>\n",
       "      <td>20909.22070</td>\n",
       "    </tr>\n",
       "    <tr>\n",
       "      <th>1</th>\n",
       "      <td>2022-07-16 15:30:00</td>\n",
       "      <td>20909.39062</td>\n",
       "      <td>20922.26953</td>\n",
       "      <td>20888.17969</td>\n",
       "      <td>20902.58984</td>\n",
       "    </tr>\n",
       "    <tr>\n",
       "      <th>2</th>\n",
       "      <td>2022-07-16 15:35:00</td>\n",
       "      <td>20899.33984</td>\n",
       "      <td>20920.75000</td>\n",
       "      <td>20890.86914</td>\n",
       "      <td>20890.86914</td>\n",
       "    </tr>\n",
       "    <tr>\n",
       "      <th>3</th>\n",
       "      <td>2022-07-16 15:40:00</td>\n",
       "      <td>20891.24023</td>\n",
       "      <td>20900.33984</td>\n",
       "      <td>20882.36914</td>\n",
       "      <td>20898.71094</td>\n",
       "    </tr>\n",
       "    <tr>\n",
       "      <th>4</th>\n",
       "      <td>2022-07-16 15:45:00</td>\n",
       "      <td>20900.33984</td>\n",
       "      <td>20914.94922</td>\n",
       "      <td>20889.98047</td>\n",
       "      <td>20914.94922</td>\n",
       "    </tr>\n",
       "    <tr>\n",
       "      <th>...</th>\n",
       "      <td>...</td>\n",
       "      <td>...</td>\n",
       "      <td>...</td>\n",
       "      <td>...</td>\n",
       "      <td>...</td>\n",
       "    </tr>\n",
       "    <tr>\n",
       "      <th>4995</th>\n",
       "      <td>2022-08-02 23:40:00</td>\n",
       "      <td>23050.08984</td>\n",
       "      <td>23083.75977</td>\n",
       "      <td>23049.58984</td>\n",
       "      <td>23079.52930</td>\n",
       "    </tr>\n",
       "    <tr>\n",
       "      <th>4996</th>\n",
       "      <td>2022-08-02 23:45:00</td>\n",
       "      <td>23079.47070</td>\n",
       "      <td>23081.74023</td>\n",
       "      <td>23025.35938</td>\n",
       "      <td>23044.75977</td>\n",
       "    </tr>\n",
       "    <tr>\n",
       "      <th>4997</th>\n",
       "      <td>2022-08-02 23:50:00</td>\n",
       "      <td>23062.28906</td>\n",
       "      <td>23065.92969</td>\n",
       "      <td>22956.27930</td>\n",
       "      <td>22957.19922</td>\n",
       "    </tr>\n",
       "    <tr>\n",
       "      <th>4998</th>\n",
       "      <td>2022-08-02 23:55:00</td>\n",
       "      <td>22966.83984</td>\n",
       "      <td>22997.56055</td>\n",
       "      <td>22951.33984</td>\n",
       "      <td>22995.08984</td>\n",
       "    </tr>\n",
       "    <tr>\n",
       "      <th>4999</th>\n",
       "      <td>2022-08-03 00:00:00</td>\n",
       "      <td>22995.08984</td>\n",
       "      <td>23015.34961</td>\n",
       "      <td>22975.69922</td>\n",
       "      <td>22975.69922</td>\n",
       "    </tr>\n",
       "  </tbody>\n",
       "</table>\n",
       "<p>5000 rows × 5 columns</p>\n",
       "</div>"
      ],
      "text/plain": [
       "                 datetime         open         high          low        close\n",
       "0     2022-07-16 15:25:00  20894.22070  20924.98047  20894.22070  20909.22070\n",
       "1     2022-07-16 15:30:00  20909.39062  20922.26953  20888.17969  20902.58984\n",
       "2     2022-07-16 15:35:00  20899.33984  20920.75000  20890.86914  20890.86914\n",
       "3     2022-07-16 15:40:00  20891.24023  20900.33984  20882.36914  20898.71094\n",
       "4     2022-07-16 15:45:00  20900.33984  20914.94922  20889.98047  20914.94922\n",
       "...                   ...          ...          ...          ...          ...\n",
       "4995  2022-08-02 23:40:00  23050.08984  23083.75977  23049.58984  23079.52930\n",
       "4996  2022-08-02 23:45:00  23079.47070  23081.74023  23025.35938  23044.75977\n",
       "4997  2022-08-02 23:50:00  23062.28906  23065.92969  22956.27930  22957.19922\n",
       "4998  2022-08-02 23:55:00  22966.83984  22997.56055  22951.33984  22995.08984\n",
       "4999  2022-08-03 00:00:00  22995.08984  23015.34961  22975.69922  22975.69922\n",
       "\n",
       "[5000 rows x 5 columns]"
      ]
     },
     "execution_count": 5,
     "metadata": {},
     "output_type": "execute_result"
    }
   ],
   "source": [
    "df"
   ]
  },
  {
   "cell_type": "code",
   "execution_count": 6,
   "metadata": {},
   "outputs": [],
   "source": [
    "#scale the data between 0 and 1 for easier analysis\n",
    "scaler = MinMaxScaler(feature_range=(0,1))\n",
    "scaled_data = scaler.fit_transform(df['close'].values.reshape(-1,1))"
   ]
  },
  {
   "cell_type": "code",
   "execution_count": 7,
   "metadata": {},
   "outputs": [
    {
     "data": {
      "text/plain": [
       "(5000, 1)"
      ]
     },
     "execution_count": 7,
     "metadata": {},
     "output_type": "execute_result"
    }
   ],
   "source": [
    "scaled_data.shape"
   ]
  },
  {
   "cell_type": "code",
   "execution_count": 8,
   "metadata": {},
   "outputs": [],
   "source": [
    "time_intervals_to_train = 24 #from last 2 hours data 24*5min=120min\n",
    "prediction_interval = 12 #predict next hour data, 36th interval~item\n",
    "x_train = []\n",
    "y_train = []"
   ]
  },
  {
   "cell_type": "code",
   "execution_count": 9,
   "metadata": {},
   "outputs": [],
   "source": [
    "for i in range(time_intervals_to_train, len(scaled_data)-prediction_interval):\n",
    "  x_train.append(scaled_data[i-time_intervals_to_train:i,0])\n",
    "  y_train.append(scaled_data[i+prediction_interval, 0])\n",
    "\n",
    "x_train = np.array(x_train)\n",
    "y_train = np.array(y_train)"
   ]
  },
  {
   "cell_type": "code",
   "execution_count": 10,
   "metadata": {},
   "outputs": [],
   "source": [
    "x_train = np.reshape(x_train, (x_train.shape[0], x_train.shape[1],1))"
   ]
  },
  {
   "cell_type": "code",
   "execution_count": 11,
   "metadata": {},
   "outputs": [
    {
     "data": {
      "text/plain": [
       "(4964, 24, 1)"
      ]
     },
     "execution_count": 11,
     "metadata": {},
     "output_type": "execute_result"
    }
   ],
   "source": [
    "x_train.shape"
   ]
  },
  {
   "cell_type": "code",
   "execution_count": 12,
   "metadata": {},
   "outputs": [],
   "source": [
    "model = Sequential()\n",
    "model.add(LSTM(128, return_sequences=True, input_shape=(x_train.shape[1],1), activation='relu'))\n",
    "model.add(Dropout(0.4))\n",
    "model.add(LSTM(64, return_sequences=True, activation='relu'))\n",
    "model.add(Dropout(0.3))\n",
    "model.add(LSTM(32, activation='relu'))\n",
    "model.add(Dropout(0.2))\n",
    "model.add(Dense(1, activation='sigmoid'))\n"
   ]
  },
  {
   "cell_type": "code",
   "execution_count": 13,
   "metadata": {},
   "outputs": [],
   "source": [
    "model.compile(loss='mean_squared_error', optimizer='adam', metrics=['accuracy'])\n"
   ]
  },
  {
   "cell_type": "code",
   "execution_count": 14,
   "metadata": {},
   "outputs": [
    {
     "name": "stdout",
     "output_type": "stream",
     "text": [
      "Epoch 1/10\n",
      "78/78 [==============================] - 19s 73ms/step - loss: 0.0272 - accuracy: 4.0290e-04\n",
      "Epoch 2/10\n",
      "78/78 [==============================] - 5s 63ms/step - loss: 0.0052 - accuracy: 4.0290e-04\n",
      "Epoch 3/10\n",
      "78/78 [==============================] - 5s 61ms/step - loss: 0.0047 - accuracy: 4.0290e-04\n",
      "Epoch 4/10\n",
      "78/78 [==============================] - 4s 54ms/step - loss: 0.0045 - accuracy: 4.0290e-04\n",
      "Epoch 5/10\n",
      "78/78 [==============================] - 5s 58ms/step - loss: 0.0044 - accuracy: 4.0290e-04\n",
      "Epoch 6/10\n",
      "78/78 [==============================] - 5s 60ms/step - loss: 0.0042 - accuracy: 4.0290e-04\n",
      "Epoch 7/10\n",
      "78/78 [==============================] - 4s 47ms/step - loss: 0.0041 - accuracy: 4.0290e-04\n",
      "Epoch 8/10\n",
      "78/78 [==============================] - 4s 53ms/step - loss: 0.0040 - accuracy: 4.0290e-04\n",
      "Epoch 9/10\n",
      "78/78 [==============================] - 4s 53ms/step - loss: 0.0039 - accuracy: 4.0290e-04\n",
      "Epoch 10/10\n",
      "78/78 [==============================] - 4s 49ms/step - loss: 0.0039 - accuracy: 4.0290e-04\n"
     ]
    },
    {
     "data": {
      "text/plain": [
       "<keras.callbacks.History at 0x20d7b86f250>"
      ]
     },
     "execution_count": 14,
     "metadata": {},
     "output_type": "execute_result"
    }
   ],
   "source": [
    "model.fit(x_train, y_train, epochs=10, batch_size=64)"
   ]
  },
  {
   "cell_type": "code",
   "execution_count": 15,
   "metadata": {},
   "outputs": [
    {
     "data": {
      "text/html": [
       "<div>\n",
       "<style scoped>\n",
       "    .dataframe tbody tr th:only-of-type {\n",
       "        vertical-align: middle;\n",
       "    }\n",
       "\n",
       "    .dataframe tbody tr th {\n",
       "        vertical-align: top;\n",
       "    }\n",
       "\n",
       "    .dataframe thead th {\n",
       "        text-align: right;\n",
       "    }\n",
       "</style>\n",
       "<table border=\"1\" class=\"dataframe\">\n",
       "  <thead>\n",
       "    <tr style=\"text-align: right;\">\n",
       "      <th></th>\n",
       "      <th>datetime</th>\n",
       "      <th>open</th>\n",
       "      <th>high</th>\n",
       "      <th>low</th>\n",
       "      <th>close</th>\n",
       "    </tr>\n",
       "  </thead>\n",
       "  <tbody>\n",
       "    <tr>\n",
       "      <th>0</th>\n",
       "      <td>2022-08-03 00:00:00</td>\n",
       "      <td>22995.08984</td>\n",
       "      <td>23015.34961</td>\n",
       "      <td>22975.69922</td>\n",
       "      <td>22975.69922</td>\n",
       "    </tr>\n",
       "    <tr>\n",
       "      <th>1</th>\n",
       "      <td>2022-08-03 00:05:00</td>\n",
       "      <td>22988.44922</td>\n",
       "      <td>23069.78906</td>\n",
       "      <td>22975.69922</td>\n",
       "      <td>23059.14062</td>\n",
       "    </tr>\n",
       "    <tr>\n",
       "      <th>2</th>\n",
       "      <td>2022-08-03 00:10:00</td>\n",
       "      <td>23052.89062</td>\n",
       "      <td>23065.14062</td>\n",
       "      <td>22959.83008</td>\n",
       "      <td>22959.83008</td>\n",
       "    </tr>\n",
       "    <tr>\n",
       "      <th>3</th>\n",
       "      <td>2022-08-03 00:15:00</td>\n",
       "      <td>22963.19922</td>\n",
       "      <td>22964.46094</td>\n",
       "      <td>22932.36914</td>\n",
       "      <td>22946.17969</td>\n",
       "    </tr>\n",
       "    <tr>\n",
       "      <th>4</th>\n",
       "      <td>2022-08-03 00:20:00</td>\n",
       "      <td>22940.99023</td>\n",
       "      <td>22944.28906</td>\n",
       "      <td>22864.94922</td>\n",
       "      <td>22908.50000</td>\n",
       "    </tr>\n",
       "    <tr>\n",
       "      <th>...</th>\n",
       "      <td>...</td>\n",
       "      <td>...</td>\n",
       "      <td>...</td>\n",
       "      <td>...</td>\n",
       "      <td>...</td>\n",
       "    </tr>\n",
       "    <tr>\n",
       "      <th>2012</th>\n",
       "      <td>2022-08-09 23:40:00</td>\n",
       "      <td>23193.09961</td>\n",
       "      <td>23205.25977</td>\n",
       "      <td>23190.75977</td>\n",
       "      <td>23191.93945</td>\n",
       "    </tr>\n",
       "    <tr>\n",
       "      <th>2013</th>\n",
       "      <td>2022-08-09 23:45:00</td>\n",
       "      <td>23190.75977</td>\n",
       "      <td>23195.24023</td>\n",
       "      <td>23165.53906</td>\n",
       "      <td>23166.80078</td>\n",
       "    </tr>\n",
       "    <tr>\n",
       "      <th>2014</th>\n",
       "      <td>2022-08-09 23:50:00</td>\n",
       "      <td>23165.53906</td>\n",
       "      <td>23173.58008</td>\n",
       "      <td>23150.61914</td>\n",
       "      <td>23164.57031</td>\n",
       "    </tr>\n",
       "    <tr>\n",
       "      <th>2015</th>\n",
       "      <td>2022-08-09 23:55:00</td>\n",
       "      <td>23165.22070</td>\n",
       "      <td>23165.91992</td>\n",
       "      <td>23142.60938</td>\n",
       "      <td>23152.31055</td>\n",
       "    </tr>\n",
       "    <tr>\n",
       "      <th>2016</th>\n",
       "      <td>2022-08-10 00:00:00</td>\n",
       "      <td>23154.08008</td>\n",
       "      <td>23155.68945</td>\n",
       "      <td>23088.35938</td>\n",
       "      <td>23097.40039</td>\n",
       "    </tr>\n",
       "  </tbody>\n",
       "</table>\n",
       "<p>2017 rows × 5 columns</p>\n",
       "</div>"
      ],
      "text/plain": [
       "                 datetime         open         high          low        close\n",
       "0     2022-08-03 00:00:00  22995.08984  23015.34961  22975.69922  22975.69922\n",
       "1     2022-08-03 00:05:00  22988.44922  23069.78906  22975.69922  23059.14062\n",
       "2     2022-08-03 00:10:00  23052.89062  23065.14062  22959.83008  22959.83008\n",
       "3     2022-08-03 00:15:00  22963.19922  22964.46094  22932.36914  22946.17969\n",
       "4     2022-08-03 00:20:00  22940.99023  22944.28906  22864.94922  22908.50000\n",
       "...                   ...          ...          ...          ...          ...\n",
       "2012  2022-08-09 23:40:00  23193.09961  23205.25977  23190.75977  23191.93945\n",
       "2013  2022-08-09 23:45:00  23190.75977  23195.24023  23165.53906  23166.80078\n",
       "2014  2022-08-09 23:50:00  23165.53906  23173.58008  23150.61914  23164.57031\n",
       "2015  2022-08-09 23:55:00  23165.22070  23165.91992  23142.60938  23152.31055\n",
       "2016  2022-08-10 00:00:00  23154.08008  23155.68945  23088.35938  23097.40039\n",
       "\n",
       "[2017 rows x 5 columns]"
      ]
     },
     "execution_count": 15,
     "metadata": {},
     "output_type": "execute_result"
    }
   ],
   "source": [
    "test_start = '2022-08-03 00:00:00'\n",
    "test_end = '2022-08-10 00:00:00'\n",
    "\n",
    "test_api_url = api_url = f'https://api.twelvedata.com/time_series?apikey={api_key}&symbol={symbol}&start_date={test_start}&end_date={test_end}&interval={interval}&order={order}'\n",
    "td = requests.get(test_api_url).json()\n",
    "td = pd.DataFrame(td['values'])\n",
    "\n",
    "td\n",
    "\n"
   ]
  },
  {
   "cell_type": "code",
   "execution_count": 16,
   "metadata": {},
   "outputs": [],
   "source": [
    "bitcoinPrices = pd.to_numeric(td['close'], errors='coerce').values\n",
    "test_inputs = td['close'].values\n",
    "test_inputs = test_inputs.reshape(-1,1)\n",
    "model_inputs=scaler.fit_transform(test_inputs)"
   ]
  },
  {
   "cell_type": "code",
   "execution_count": 17,
   "metadata": {},
   "outputs": [],
   "source": [
    "x_test = []\n",
    "for x in range(time_intervals_to_train, len(model_inputs)):\n",
    "  x_test.append(model_inputs[x-time_intervals_to_train:x, 0])\n",
    "x_test = np.array(x_test)\n",
    "x_test = np.reshape(x_test, (x_test.shape[0], x_test.shape[1],1))"
   ]
  },
  {
   "cell_type": "code",
   "execution_count": 18,
   "metadata": {},
   "outputs": [
    {
     "name": "stdout",
     "output_type": "stream",
     "text": [
      "63/63 [==============================] - 3s 22ms/step\n"
     ]
    }
   ],
   "source": [
    "prediction_prices = model.predict(x_test)"
   ]
  },
  {
   "cell_type": "code",
   "execution_count": 19,
   "metadata": {},
   "outputs": [],
   "source": [
    "prediction_prices = scaler.inverse_transform(prediction_prices)"
   ]
  },
  {
   "cell_type": "code",
   "execution_count": 20,
   "metadata": {},
   "outputs": [
    {
     "data": {
      "image/png": "[encoded data removed]",
      "text/plain": [
       "<Figure size 432x288 with 1 Axes>"
      ]
     },
     "metadata": {
      "needs_background": "light"
     },
     "output_type": "display_data"
    }
   ],
   "source": [
    "plt.plot(bitcoinPrices, label = 'bitcoin prices')\n",
    "plt.plot(prediction_prices, label = 'predicted prices')\n",
    "plt.xlabel('5 min time interval')\n",
    "plt.ylabel('price')\n",
    "plt.legend()\n",
    "plt.show()"
   ]
  }
 ],
 "metadata": {
  "kernelspec": {
   "display_name": "Python 3.9.5 64-bit",
   "language": "python",
   "name": "python3"
  },
  "language_info": {
   "codemirror_mode": {
    "name": "ipython",
    "version": 3
   },
   "file_extension": ".py",
   "mimetype": "text/x-python",
   "name": "python",
   "nbconvert_exporter": "python",
   "pygments_lexer": "ipython3",
   "version": "3.9.5"
  },
  "orig_nbformat": 4,
  "vscode": {
   "interpreter": {
    "hash": "49f72118693dedd4369568c1628f45b1cd96f83c4cd483274f6a37a847c1b78f"
   }
  }
 },
 "nbformat": 4,
 "nbformat_minor": 2
}
